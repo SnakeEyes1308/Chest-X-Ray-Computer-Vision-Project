{
 "cells": [
  {
   "cell_type": "code",
   "execution_count": 1,
   "id": "initial_id",
   "metadata": {
    "collapsed": true,
    "ExecuteTime": {
     "end_time": "2024-02-29T17:06:30.363467Z",
     "start_time": "2024-02-29T17:06:27.199225Z"
    }
   },
   "outputs": [
    {
     "name": "stderr",
     "output_type": "stream",
     "text": [
      "WARNING:absl:At this time, the v2.11+ optimizer `tf.keras.optimizers.Adam` runs slowly on M1/M2 Macs, please use the legacy Keras optimizer instead, located at `tf.keras.optimizers.legacy.Adam`.\n"
     ]
    }
   ],
   "source": [
    "import numpy as np\n",
    "from tensorflow.keras.models import load_model\n",
    "model = load_model('unet_best_model.h5')\n",
    "\n",
    "def iou(y_true, y_pred):\n",
    "    intersection = np.logical_and(y_true, y_pred)\n",
    "    union = np.logical_or(y_true, y_pred)\n",
    "    iou_score = np.sum(intersection) / np.sum(union)\n",
    "    return iou_score\n",
    "\n",
    "def dice_coefficient(y_true, y_pred):\n",
    "    intersection = np.logical_and(y_true, y_pred)\n",
    "    return 2. * np.sum(intersection) / (np.sum(y_true) + np.sum(y_pred))\n",
    "\n",
    "predicted_masks = model.predict(val_images)\n",
    "# Threshold predictions\n",
    "predicted_masks[predicted_masks > 0.5] = 1\n",
    "predicted_masks[predicted_masks <= 0.5] = 0\n",
    "\n",
    "# Calculate IoU and Dice for each image\n",
    "iou_scores = [iou(true, pred) for true, pred in zip(val_masks, predicted_masks)]\n",
    "dice_scores = [dice_coefficient(true, pred) for true, pred in zip(val_masks, predicted_masks)]\n",
    "\n",
    "# Average IoU and Dice for the validation set\n",
    "avg_iou = np.mean(iou_scores)\n",
    "avg_dice = np.mean(dice_scores)\n",
    "\n",
    "print(f'Average IoU: {avg_iou}, Average Dice Coefficient: {avg_dice}')\n",
    "\n"
   ]
  },
  {
   "cell_type": "code",
   "outputs": [],
   "source": [],
   "metadata": {
    "collapsed": false
   },
   "id": "c72a84c0faff9d74"
  }
 ],
 "metadata": {
  "kernelspec": {
   "display_name": "Python 3",
   "language": "python",
   "name": "python3"
  },
  "language_info": {
   "codemirror_mode": {
    "name": "ipython",
    "version": 2
   },
   "file_extension": ".py",
   "mimetype": "text/x-python",
   "name": "python",
   "nbconvert_exporter": "python",
   "pygments_lexer": "ipython2",
   "version": "2.7.6"
  }
 },
 "nbformat": 4,
 "nbformat_minor": 5
}
